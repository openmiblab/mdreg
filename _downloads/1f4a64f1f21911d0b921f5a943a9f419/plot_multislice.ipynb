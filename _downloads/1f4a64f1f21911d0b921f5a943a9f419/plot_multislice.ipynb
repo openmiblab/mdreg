{
  "cells": [
    {
      "cell_type": "markdown",
      "metadata": {},
      "source": [
        "\n# Multi-slice 2D registration\n\nBy default mdreg performs 3D coregistration on 3D series, and 2D \ncoregistration on 2D series. In case the 3D series encodes a collection of \n2D slices with gaps in between (multi-slice data), this may not be appropriate.\n\nThis examples shows how mdreg can be used to perform 2D coregistration \nslice-by-slice on a 3D series by setting the keyword argument force_2d=True.\n"
      ]
    },
    {
      "cell_type": "markdown",
      "metadata": {},
      "source": [
        "## Setup\n\n"
      ]
    },
    {
      "cell_type": "code",
      "execution_count": null,
      "metadata": {
        "collapsed": false
      },
      "outputs": [],
      "source": [
        "import numpy as np\nimport mdreg"
      ]
    },
    {
      "cell_type": "markdown",
      "metadata": {},
      "source": [
        "Fetch the multi-slice MOLLI dataset\n\n"
      ]
    },
    {
      "cell_type": "code",
      "execution_count": null,
      "metadata": {
        "collapsed": false
      },
      "outputs": [],
      "source": [
        "data = mdreg.fetch('MOLLI')\n\n# Get the relevant variables (3D data)\narray = data['array'] \nTI = np.array(data['TI'])/1000"
      ]
    },
    {
      "cell_type": "markdown",
      "metadata": {},
      "source": [
        "## Perform slice-by-slice motion correction\n\n"
      ]
    },
    {
      "cell_type": "code",
      "execution_count": null,
      "metadata": {
        "collapsed": false
      },
      "outputs": [],
      "source": [
        "# Define the signal model\nmolli = {\n    'func': mdreg.fit_abs_exp_recovery_2p, \n    'TI': np.array(data['TI'])/1000,\n}\n# Perform motion correction\ncoreg, fit, defo, pars = mdreg.fit(\n    array, \n    fit_image=molli, \n    force_2d=True, \n    maxit=1,\n)"
      ]
    },
    {
      "cell_type": "markdown",
      "metadata": {},
      "source": [
        "Since coregistration is performed in 2D, the deformation field only has \ntwo components:\n\n"
      ]
    },
    {
      "cell_type": "code",
      "execution_count": null,
      "metadata": {
        "collapsed": false
      },
      "outputs": [],
      "source": [
        "print(f'The deformation field has {defo.shape[-1]} components.')"
      ]
    },
    {
      "cell_type": "markdown",
      "metadata": {},
      "source": [
        "Visualise the results\n\n"
      ]
    },
    {
      "cell_type": "code",
      "execution_count": null,
      "metadata": {
        "collapsed": false
      },
      "outputs": [],
      "source": [
        "anim = mdreg.plot.series(array, fit, coreg, vmin=0, vmax=1e4)"
      ]
    },
    {
      "cell_type": "markdown",
      "metadata": {},
      "source": [
        "## Different options per slice\nIt is not uncommon that each slice in a multislice sequence has different \nimaging parameters. For instance in a MOLLI sequence such as used \nin this example, it is often the case that each slice has its own set of TI\nvalues. \n\nThe situation can be accomodated in `~mdreg.fit` by assigning a \nlist of dictionaries to the *fit_image* argument - one for each slice. \nWe illustrate that here assuming that the TI's for each slice are offset by \n100 ms relative to the previous slice:\n\n"
      ]
    },
    {
      "cell_type": "code",
      "execution_count": null,
      "metadata": {
        "collapsed": false
      },
      "outputs": [],
      "source": [
        "molli = [\n    {\n        'func': mdreg.fit_abs_exp_recovery_2p, \n        'TI': TI + 0.1 * z, \n    }\n    for z in range(array.shape[2])\n]\n\n# Other than that, the function call to `mdreg.fit()` is the same as before."
      ]
    },
    {
      "cell_type": "markdown",
      "metadata": {},
      "source": [
        "## Other coregistration packages\nThis works the same when using ants or elastix for coregistration:\n\n"
      ]
    },
    {
      "cell_type": "code",
      "execution_count": null,
      "metadata": {
        "collapsed": false
      },
      "outputs": [],
      "source": [
        "# Perform motion correction\ncoreg, fit, transfo, pars = mdreg.fit(\n    array, \n    fit_image=molli, \n    fit_coreg={'package': 'ants'},\n    force_2d=True, \n    maxit=1,\n)"
      ]
    },
    {
      "cell_type": "markdown",
      "metadata": {},
      "source": [
        "The difference with skimage is that the transformations returned are now a \n2D array with one transformation at each time and each slice:\n\n"
      ]
    },
    {
      "cell_type": "code",
      "execution_count": null,
      "metadata": {
        "collapsed": false
      },
      "outputs": [],
      "source": [
        "print(f'2D transformation shape: {transfo.shape}')"
      ]
    },
    {
      "cell_type": "markdown",
      "metadata": {},
      "source": [
        "Compare this to 3D registration, where one 3D transformation for each\ntime point is returned:\n\n"
      ]
    },
    {
      "cell_type": "code",
      "execution_count": null,
      "metadata": {
        "collapsed": false
      },
      "outputs": [],
      "source": [
        "coreg, fit, transfo, pars = mdreg.fit(\n    array, \n    fit_image=molli[0], \n    fit_coreg={'package': 'elastix'},\n    maxit=1,\n)\n\nprint(f'3D transformation shape: {transfo.shape}')"
      ]
    },
    {
      "cell_type": "markdown",
      "metadata": {},
      "source": [
        "## Slice by slice with pixel models\nIf the signal model fit is defined with a custom model via the \n*fit_pixels* argument, the slice-by-slice operation works the same: \nset the *force_2d* keyword to True, and - if each slice has \ndifferent parameter settings - supply the *fit_pixels* \nargument as a list of dictionaries.\n\n"
      ]
    },
    {
      "cell_type": "code",
      "execution_count": null,
      "metadata": {
        "collapsed": false
      },
      "outputs": [],
      "source": [
        "molli = [\n    {\n        'model': mdreg.abs_exp_recovery_2p, \n        'xdata': TI + 0.1 * z, \n        'func_init': mdreg.abs_exp_recovery_2p_init,\n        'p0': [1, 1],\n    }\n    for z in range(array.shape[2])\n]\n\ncoreg, fit, transfo, pars = mdreg.fit(\n    array, \n    fit_pixels=molli, \n    force_2d=True,\n    maxit=1,\n)"
      ]
    }
  ],
  "metadata": {
    "kernelspec": {
      "display_name": "Python 3",
      "language": "python",
      "name": "python3"
    },
    "language_info": {
      "codemirror_mode": {
        "name": "ipython",
        "version": 3
      },
      "file_extension": ".py",
      "mimetype": "text/x-python",
      "name": "python",
      "nbconvert_exporter": "python",
      "pygments_lexer": "ipython3",
      "version": "3.11.9"
    }
  },
  "nbformat": 4,
  "nbformat_minor": 0
}