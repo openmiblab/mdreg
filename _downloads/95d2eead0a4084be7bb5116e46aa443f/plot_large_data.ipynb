{
  "cells": [
    {
      "cell_type": "markdown",
      "metadata": {},
      "source": [
        "\n# Datasets larger than RAM\n\nWhen data are entered as numpy arrays, mreg will load the entire array in memory, \nperform the computations and generate new datasets in memory, such as model fit \narrays or deformation fields. \n\nWhen working with large datasets, such as 3D time series of images, it may \nhappen that this requires more memory than a machine has available. Even \nif the original data fit in memory, you will need more than three times that \nto fit all the results in. \n\nA solution in such conditions is to store the data on disk as a zarray rather \nthan a numpy array. Most mdreg functions can operate on zarrays, and will \nconsume a lot less memory because only the data that are actually being \nprocessed are loaded. \n\nThis example illustrates how to work with zarrays for the example of \nnon-linear model fitting to a variable flip angle series.\n"
      ]
    },
    {
      "cell_type": "markdown",
      "metadata": {},
      "source": [
        "## Setup\n\n"
      ]
    },
    {
      "cell_type": "code",
      "execution_count": null,
      "metadata": {
        "collapsed": false
      },
      "outputs": [],
      "source": [
        "import os\nimport time\nimport shutil\nimport numpy as np\nimport mdreg"
      ]
    },
    {
      "cell_type": "markdown",
      "metadata": {},
      "source": [
        "Fetch the low resolution VFA data saved as zarray. Since the zarray \nexist on disk this step is not actually loading any data in memory.\n\n"
      ]
    },
    {
      "cell_type": "code",
      "execution_count": null,
      "metadata": {
        "collapsed": false
      },
      "outputs": [],
      "source": [
        "data = mdreg.fetch_zarr('VFA')"
      ]
    },
    {
      "cell_type": "markdown",
      "metadata": {},
      "source": [
        "In a zarray any header information or metadata are in attributes:\n\n"
      ]
    },
    {
      "cell_type": "code",
      "execution_count": null,
      "metadata": {
        "collapsed": false
      },
      "outputs": [],
      "source": [
        "FA = data.attrs['FA']             # The FA values in degrees"
      ]
    },
    {
      "cell_type": "markdown",
      "metadata": {},
      "source": [
        "For the purpose of this example we will always use the same pixel-wise \nmodel fit. We define the keyword arguments up front to save some repetition later:\n\n"
      ]
    },
    {
      "cell_type": "code",
      "execution_count": null,
      "metadata": {
        "collapsed": false
      },
      "outputs": [],
      "source": [
        "modelfit = {                           \n    'model': mdreg.spgr_vfa,            # VFA signal model\n    'xdata': FA,                        # Flip angle \n    'func_init': mdreg.spgr_vfa_init,   # Initializer\n    'p0': [1, 0.5],                     # Initial values\n    'bounds': ([0, 0], [np.inf, 1]),    # Parameter bounds\n}"
      ]
    },
    {
      "cell_type": "markdown",
      "metadata": {},
      "source": [
        "## Fit numpy arrays\nLoading an entire array into memory can be done by indexing with data[:], \nwhich returns a numpy array. Therefore the following operation simply fits \nthe signal model to a numpy array in memory:\n\n"
      ]
    },
    {
      "cell_type": "code",
      "execution_count": null,
      "metadata": {
        "collapsed": false
      },
      "outputs": [],
      "source": [
        "t = time.time()\ncoreg, fit, defo, pars = mdreg.fit(\n    data[:], \n    fit_pixels=modelfit, \n    maxit=1,\n)\nprint(f\"Computation time: {round(time.time()-t)} seconds.\")"
      ]
    },
    {
      "cell_type": "markdown",
      "metadata": {},
      "source": [
        "Since the argument is a numpy array, the return values are numpy arrays too:\n\n"
      ]
    },
    {
      "cell_type": "code",
      "execution_count": null,
      "metadata": {
        "collapsed": false
      },
      "outputs": [],
      "source": [
        "print('Data type of return values: ', type(fit))"
      ]
    },
    {
      "cell_type": "markdown",
      "metadata": {},
      "source": [
        "Let's visualise the S0 map for reference:\n\n"
      ]
    },
    {
      "cell_type": "code",
      "execution_count": null,
      "metadata": {
        "collapsed": false
      },
      "outputs": [],
      "source": [
        "fig = mdreg.plot.par(pars[...,0], title='S0', vmin=0, \n                     vmax=np.percentile(pars[...,0], 95))"
      ]
    },
    {
      "cell_type": "markdown",
      "metadata": {},
      "source": [
        "## Fitting zarrays: results in memory\nWe can also feed in the zarray directly as argument:\n\n"
      ]
    },
    {
      "cell_type": "code",
      "execution_count": null,
      "metadata": {
        "collapsed": false
      },
      "outputs": [],
      "source": [
        "t = time.time()\ncoreg, fit, defo, pars = mdreg.fit(\n    data, \n    fit_pixels=modelfit, \n    maxit=1,\n)\nprint(f\"Computation time: {round(time.time()-t)} seconds.\")"
      ]
    },
    {
      "cell_type": "markdown",
      "metadata": {},
      "source": [
        "This effectively performs the same operation on the same data in memory. \nThe main difference is that the return values are now also zarrays:\n\n"
      ]
    },
    {
      "cell_type": "code",
      "execution_count": null,
      "metadata": {
        "collapsed": false
      },
      "outputs": [],
      "source": [
        "print('Data type of return values: ', type(fit))"
      ]
    },
    {
      "cell_type": "markdown",
      "metadata": {},
      "source": [
        "The result is the same as with numpy arrays, and can be accessed in the \nsame way:\n\n"
      ]
    },
    {
      "cell_type": "code",
      "execution_count": null,
      "metadata": {
        "collapsed": false
      },
      "outputs": [],
      "source": [
        "fig = mdreg.plot.par(pars[...,0], title='S0', vmin=0, \n                     vmax=np.percentile(pars[...,0], 95))"
      ]
    },
    {
      "cell_type": "markdown",
      "metadata": {},
      "source": [
        "## Fitting zarrays: results on disk\nSince we did not specify a path before, the zarrays returned by mfit() are \nstored in memory:\n\n"
      ]
    },
    {
      "cell_type": "code",
      "execution_count": null,
      "metadata": {
        "collapsed": false
      },
      "outputs": [],
      "source": [
        "print('Storage type of return values: ', type(fit.store))"
      ]
    },
    {
      "cell_type": "markdown",
      "metadata": {},
      "source": [
        "If we want the return values to be stored on disk instead, we need to \nprovide a path in the function call:\n\n"
      ]
    },
    {
      "cell_type": "code",
      "execution_count": null,
      "metadata": {
        "collapsed": false
      },
      "outputs": [],
      "source": [
        "path = os.path.join(os.getcwd(), 'tmp')\n\nt = time.time()\ncoreg, fit, defo, pars = mdreg.fit(\n    data, \n    path=path, \n    fit_pixels=modelfit, \n    maxit=1,\n)\nprint(f\"Computation time: {round(time.time()-t)} seconds.\")"
      ]
    },
    {
      "cell_type": "markdown",
      "metadata": {},
      "source": [
        "This has now created four zarrays on disk:\n\n"
      ]
    },
    {
      "cell_type": "code",
      "execution_count": null,
      "metadata": {
        "collapsed": false
      },
      "outputs": [],
      "source": [
        "print('Storage type of return values: ', type(fit.store))"
      ]
    },
    {
      "cell_type": "markdown",
      "metadata": {},
      "source": [
        "Clean up the directory for the next computation\n\n"
      ]
    },
    {
      "cell_type": "code",
      "execution_count": null,
      "metadata": {
        "collapsed": false
      },
      "outputs": [],
      "source": [
        "shutil.rmtree(path)"
      ]
    },
    {
      "cell_type": "markdown",
      "metadata": {},
      "source": [
        "## Row-by-row computation\nBy default zarrays are processed slice-by-slice (memdim=2). \nIf a single slice is still too large for memory, the *memdim* argument can\nbe set to 1 to perform the computations row-by-row:\n\n"
      ]
    },
    {
      "cell_type": "code",
      "execution_count": null,
      "metadata": {
        "collapsed": false
      },
      "outputs": [],
      "source": [
        "modelfit['memdim']=1\n\nt = time.time()\ncoreg, fit, defo, pars = mdreg.fit(\n    data, \n    path=path, \n    fit_pixels=modelfit,\n    maxit=1,\n)\nprint(f\"Computation time: {round(time.time()-t)} seconds.\")"
      ]
    },
    {
      "cell_type": "markdown",
      "metadata": {},
      "source": [
        "Clean up directory\n\n"
      ]
    },
    {
      "cell_type": "code",
      "execution_count": null,
      "metadata": {
        "collapsed": false
      },
      "outputs": [],
      "source": [
        "shutil.rmtree(path)"
      ]
    },
    {
      "cell_type": "markdown",
      "metadata": {},
      "source": [
        "## Pixel-by-pixel computation\nComputations can also be performed pixel-by-pixel by setting *memdim* to 0, \nbut this will come at a major cost in computation time as a complete slice \nneeds to be read, and written, for each pixel. \n\n"
      ]
    }
  ],
  "metadata": {
    "kernelspec": {
      "display_name": "Python 3",
      "language": "python",
      "name": "python3"
    },
    "language_info": {
      "codemirror_mode": {
        "name": "ipython",
        "version": 3
      },
      "file_extension": ".py",
      "mimetype": "text/x-python",
      "name": "python",
      "nbconvert_exporter": "python",
      "pygments_lexer": "ipython3",
      "version": "3.11.9"
    }
  },
  "nbformat": 4,
  "nbformat_minor": 0
}