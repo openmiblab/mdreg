{
  "cells": [
    {
      "cell_type": "markdown",
      "metadata": {},
      "source": [
        "\n# The effect of model selection\n\nSince ``mdreg`` performs model-driven motion correction, the choice of an \nappropriate model is important to the result. We illustrate this here by\ncoregistering a dataset with different models.\n"
      ]
    },
    {
      "cell_type": "markdown",
      "metadata": {},
      "source": [
        "## Setup\n\n"
      ]
    },
    {
      "cell_type": "code",
      "execution_count": null,
      "metadata": {
        "collapsed": false
      },
      "outputs": [],
      "source": [
        "import numpy as np\nimport mdreg"
      ]
    },
    {
      "cell_type": "markdown",
      "metadata": {},
      "source": [
        "fetch test data\n\n"
      ]
    },
    {
      "cell_type": "code",
      "execution_count": null,
      "metadata": {
        "collapsed": false
      },
      "outputs": [],
      "source": [
        "data = mdreg.fetch('MOLLI')\n\n# We will consider the slice z=0 of the data array:\narray = data['array'][:,:,0,:]"
      ]
    },
    {
      "cell_type": "markdown",
      "metadata": {},
      "source": [
        "## Default model\nThe breathing motion is clearly visible in this slice and we can use \n``mdreg`` to remove it. As a starting point, we could try ``mdreg`` with \ndefault settings.\n\n"
      ]
    },
    {
      "cell_type": "code",
      "execution_count": null,
      "metadata": {
        "collapsed": false
      },
      "outputs": [],
      "source": [
        "# Perform model-driven coregistration with default settings\ncoreg, fit, defo, pars = mdreg.fit(array)\n\n# And visualise the results\nanim = mdreg.plot.series(array, fit, coreg, vmin=0, vmax=1e4)"
      ]
    },
    {
      "cell_type": "markdown",
      "metadata": {},
      "source": [
        "The default model is a constant, so the model fit (left) does not show any \nchanges. The coregistered image has not properly removed the motions. This \nis not unexpected, because a constant model does not provide a good \napproximation to the changes in image contrast. We clearly need a \nmore complex model for this sequence.\n\n"
      ]
    },
    {
      "cell_type": "markdown",
      "metadata": {},
      "source": [
        "## Linear model\nIn order to improve on this result, we could try a linear model, which \napproximates the signal changes in each pixel as a straight line. \n\n"
      ]
    },
    {
      "cell_type": "code",
      "execution_count": null,
      "metadata": {
        "collapsed": false
      },
      "outputs": [],
      "source": [
        "# Perform model-driven coregistration with default settings\ncoreg, fit, defo, pars = mdreg.fit(\n    array,\n    fit_pixels = {\n        'model': mdreg.lin,\n        'p0': [1, 0],\n    },\n)\n# And visualise the results\nanim = mdreg.plot.series(array, fit, coreg, vmin=0, vmax=1e4)"
      ]
    },
    {
      "cell_type": "markdown",
      "metadata": {},
      "source": [
        "Still not a great motion correction (right). The model fit (left) shows that \nwhile the linear model does allow for some changes in contrast over time, \nit does not capture the actual changes very well (middle). \n\n"
      ]
    },
    {
      "cell_type": "markdown",
      "metadata": {},
      "source": [
        "## Quadratic model\nLet's step up the complexity once again and fit with a quadratic model: \n\n"
      ]
    },
    {
      "cell_type": "code",
      "execution_count": null,
      "metadata": {
        "collapsed": false
      },
      "outputs": [],
      "source": [
        "coreg, fit, defo, pars = mdreg.fit(\n    array,\n    fit_pixels = {\n        'model': mdreg.quad,\n        'p0': [1, 0, 0],\n    },\n)\nanim = mdreg.plot.series(array, fit, coreg, vmin=0, vmax=1e4)"
      ]
    },
    {
      "cell_type": "markdown",
      "metadata": {},
      "source": [
        "This now captures the signal changes better, leading to an improved motion \ncorrection, but the result is far from perfect. \n\n"
      ]
    },
    {
      "cell_type": "markdown",
      "metadata": {},
      "source": [
        "## Fourth order polynomial\nLet's step it up one more time to see if we can improve on this further. \nWe'll skip a step and go straight to fourth order:\n\n"
      ]
    },
    {
      "cell_type": "code",
      "execution_count": null,
      "metadata": {
        "collapsed": false
      },
      "outputs": [],
      "source": [
        "coreg, fit, defo, pars = mdreg.fit(\n    array,\n    fit_pixels = {\n        'model': mdreg.ofour,\n        'p0': [1, 0, 0, 0, 0],\n    },\n)\nanim = mdreg.plot.series(array, fit, coreg, vmin=0, vmax=1e4)"
      ]
    },
    {
      "cell_type": "markdown",
      "metadata": {},
      "source": [
        "This now appears to have made it worse: there is more motion again in the \ncoregistered series (right). Looking at the model fit (left) we see what is \nhappening: this model has so much freedom that it can now model the \ndeformations as well, creating a moving target for the coregistration. \n\nThe best solution, when available, is always to use the actual model of the \nsignal changes, with the smallest amount of free parameters as is needed to \ndescribe them accurately.\n\n"
      ]
    },
    {
      "cell_type": "markdown",
      "metadata": {},
      "source": [
        "## MOLLI model\nWe will run this one final time, now using the correct model for a Look-\nLocker MRI signal sequence. Tis only has 2 parameters, but models the signal \nchanges well:\n\n"
      ]
    },
    {
      "cell_type": "code",
      "execution_count": null,
      "metadata": {
        "collapsed": false
      },
      "outputs": [],
      "source": [
        "coreg, fit, defo, pars = mdreg.fit(\n    array,\n    fit_pixels = {\n        'model': mdreg.abs_exp_recovery_2p,\n        'p0': [1, 1],\n        'xdata': np.array(data['TI'])/1000,\n        'func_init':mdreg.abs_exp_recovery_2p_init,\n    },\n)\nanim = mdreg.plot.series(array, fit, coreg, vmin=0, vmax=1e4)"
      ]
    },
    {
      "cell_type": "markdown",
      "metadata": {},
      "source": [
        "This show the best result so far, despite the model only having 2 free \nparameters. At this point the result cannot be improved by fine tuning \nthe modelling, but changing the restrictions in the default coregistration \ndoes help to improve further: \n\n"
      ]
    },
    {
      "cell_type": "code",
      "execution_count": null,
      "metadata": {
        "collapsed": false
      },
      "outputs": [],
      "source": [
        "coreg, fit, defo, pars = mdreg.fit(\n    array,\n    fit_pixels = {\n        'model': mdreg.abs_exp_recovery_2p,\n        'p0': [1, 1],\n        'xdata': np.array(data['TI'])/1000,\n        'func_init':mdreg.abs_exp_recovery_2p_init,\n    },\n    fit_coreg = {\n        'attachment': 30,\n    },\n)\nanim = mdreg.plot.series(array, fit, coreg, vmin=0, vmax=1e4)"
      ]
    }
  ],
  "metadata": {
    "kernelspec": {
      "display_name": "Python 3",
      "language": "python",
      "name": "python3"
    },
    "language_info": {
      "codemirror_mode": {
        "name": "ipython",
        "version": 3
      },
      "file_extension": ".py",
      "mimetype": "text/x-python",
      "name": "python",
      "nbconvert_exporter": "python",
      "pygments_lexer": "ipython3",
      "version": "3.11.9"
    }
  },
  "nbformat": 4,
  "nbformat_minor": 0
}