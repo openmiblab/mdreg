{
  "cells": [
    {
      "cell_type": "markdown",
      "metadata": {},
      "source": [
        "\n# Multi-slice MOLLI T1-mapping in the kidney\n\nThis example shows how mdreg can be used to perform 2D motion correction \nslice-by-slice on a 4D array, for the case of Look-Locker T1 mapping.\n"
      ]
    },
    {
      "cell_type": "markdown",
      "metadata": {},
      "source": [
        "## Setup\n\n"
      ]
    },
    {
      "cell_type": "code",
      "execution_count": null,
      "metadata": {
        "collapsed": false
      },
      "outputs": [],
      "source": [
        "import numpy as np\nimport mdreg\n\n# Fetch the multi-slice MOLLI dataset and plot\ndata = mdreg.fetch('MOLLI')\n\n# Get the relevant variables\narray = data['array']  \n\n# Visualise the motion\nanim = mdreg.plot.animation(array, vmin=0, vmax=1e4)"
      ]
    },
    {
      "cell_type": "markdown",
      "metadata": {},
      "source": [
        "## Perform slice-by-slice motion correction\nSlice-by-slice analysis works the same way as single-slice or 3D analysis. We \njust have to remember to set the keyword argument *force_2d* to True so \n`~mdreg.fit` knows that we want 2D motion correction. This overrules the \ndefault behaviour of fitting 3D data with 3D motion correction:\n\n"
      ]
    },
    {
      "cell_type": "code",
      "execution_count": null,
      "metadata": {
        "collapsed": false
      },
      "outputs": [],
      "source": [
        "coreg, fit, transfo, pars = mdreg.fit(\n    array, \n    fit_image={\n        'func': mdreg.fit_abs_exp_recovery_2p, \n        'TI': np.array(data['TI'])/1000,\n    }, \n    fit_coreg={\n        'package': 'elastix',\n        'spacing': data['pixel_spacing'],\n        'FinalGridSpacingInPhysicalUnits': 50.0,\n    },\n    force_2d=True, \n    verbose=2,\n)"
      ]
    },
    {
      "cell_type": "markdown",
      "metadata": {},
      "source": [
        "Visualise the results\n\n"
      ]
    },
    {
      "cell_type": "code",
      "execution_count": null,
      "metadata": {
        "collapsed": false
      },
      "outputs": [],
      "source": [
        "anim = mdreg.plot.animation(\n    coreg, title='Motion corrected', interval=500, vmin=0, vmax=1e4\n)"
      ]
    }
  ],
  "metadata": {
    "kernelspec": {
      "display_name": "Python 3",
      "language": "python",
      "name": "python3"
    },
    "language_info": {
      "codemirror_mode": {
        "name": "ipython",
        "version": 3
      },
      "file_extension": ".py",
      "mimetype": "text/x-python",
      "name": "python",
      "nbconvert_exporter": "python",
      "pygments_lexer": "ipython3",
      "version": "3.11.9"
    }
  },
  "nbformat": 4,
  "nbformat_minor": 0
}