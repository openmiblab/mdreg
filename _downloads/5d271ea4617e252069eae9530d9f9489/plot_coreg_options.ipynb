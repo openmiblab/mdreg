{
  "cells": [
    {
      "cell_type": "markdown",
      "metadata": {},
      "source": [
        "\n# Coregistration options in mdreg\n\nBy default, ``mdreg`` performs coregistration using the optical flow method \n:func:`~skimage.optical_flow_tvl1` as implemented in skimage, with default \nsettings for all parameters. \n\nThe coregistration can be modified either \nby overriding these defaults, or by coregistering with one of the optional \ncoregistration engines wrapped in mdreg: *ants* and *elastix*.\n\nThis example shows how these options can be customized to achieve the best \nresults.\n"
      ]
    },
    {
      "cell_type": "markdown",
      "metadata": {},
      "source": [
        "## Setup\n\n"
      ]
    },
    {
      "cell_type": "code",
      "execution_count": null,
      "metadata": {
        "collapsed": false
      },
      "outputs": [],
      "source": [
        "import numpy as np\nimport mdreg"
      ]
    },
    {
      "cell_type": "markdown",
      "metadata": {},
      "source": [
        "Load test data\n\n"
      ]
    },
    {
      "cell_type": "code",
      "execution_count": null,
      "metadata": {
        "collapsed": false
      },
      "outputs": [],
      "source": [
        "data = mdreg.fetch('MOLLI')\narray = data['array'][:,:,0,:]\n\n# Throughout this example we use the same signal model:\nmolli = {\n    'func': mdreg.fit_abs_exp_recovery_2p,\n    'TI': np.array(data['TI'])/1000,\n}\n\n# Visualise the data\nanim = mdreg.plot.animation(array, vmin=0, vmax=1e4)"
      ]
    },
    {
      "cell_type": "markdown",
      "metadata": {},
      "source": [
        "## Coregistration with ``skimage``\nIf we don't provide any detail on the coregistration method, ``mdreg`` \nuses the optical flow method :func:`~skimage.optical_flow_tvl1` from the \npackage ``skimage`` for coregistration:\n\n"
      ]
    },
    {
      "cell_type": "code",
      "execution_count": null,
      "metadata": {
        "collapsed": false
      },
      "outputs": [],
      "source": [
        "coreg, fit, _, _ = mdreg.fit(\n    array, \n    fit_image=molli,\n)"
      ]
    },
    {
      "cell_type": "markdown",
      "metadata": {},
      "source": [
        "Visualise the results\n\n"
      ]
    },
    {
      "cell_type": "code",
      "execution_count": null,
      "metadata": {
        "collapsed": false
      },
      "outputs": [],
      "source": [
        "anim = mdreg.plot.series(array, fit, coreg, vmin=0, vmax=1e4)"
      ]
    },
    {
      "cell_type": "markdown",
      "metadata": {},
      "source": [
        "This has clearly had some effect, but the motion correction is not perfect \nand the coregistered image is somewhat blurred. We could try to improve \nthe result by optimizing the parameters. \n\nOne parameter in \n:func:`~skimage.optical_flow_tvl1` is the *attachment*, which by default is \nset to 15, but can be set to smaller values for smoother results. In this \ncase we want the opposite, so let's see what happens when we set it to \n30. \n\nWe can do this by providing the *fit_coreg* argument to *mdreg.fit*:\n\n"
      ]
    },
    {
      "cell_type": "code",
      "execution_count": null,
      "metadata": {
        "collapsed": false
      },
      "outputs": [],
      "source": [
        "coreg, fit, _, _ = mdreg.fit(\n    array, \n    fit_image=molli,\n    fit_coreg={'attachment': 30},\n)\n\n# Visualise the results\nanim = mdreg.plot.series(array, fit, coreg, vmin=0, vmax=1e4)"
      ]
    },
    {
      "cell_type": "markdown",
      "metadata": {},
      "source": [
        "This appears to have had the desired effect and has resulted in a better \nmotion correction.\n\n"
      ]
    },
    {
      "cell_type": "markdown",
      "metadata": {},
      "source": [
        "## Coregistration with elastix\nAn other approach to optimization is to use another coregistration engine. \n``mdreg`` also wraps elastix, so let's try that.\n\nBy default `mdreg` applies ``elastix`` with bspline deformations, and default settings for all \nparameters. The result can be further customized by providing any valid \n``elastix`` parameter in the dictionary. For this example we will change the \ndefault grid spacing from 16mm to 50mm. Since elastix is not default, we \nneed to provide the package name as well. It also needs the pixel spacing \nso that dimensions in mm are well defined:\n\n"
      ]
    },
    {
      "cell_type": "code",
      "execution_count": null,
      "metadata": {
        "collapsed": false
      },
      "outputs": [],
      "source": [
        "coreg, fit, _, _ = mdreg.fit(\n    array, \n    fit_image=molli,\n    fit_coreg={\n        'package': 'elastix',\n        'spacing': data['pixel_spacing'],\n        'FinalGridSpacingInPhysicalUnits': 50.0,\n    },\n)\n\n# Visualise the results\nanim = mdreg.plot.series(array, fit, coreg, vmin=0, vmax=1e4)"
      ]
    },
    {
      "cell_type": "markdown",
      "metadata": {},
      "source": [
        "## Coregistration with ants\nApart from ``skimage`` and ``elastix``, mdreg also wraps ``ants`` as a \nregistration engine.\n\nIt can be called like elastix, by specifying the package and, if needed, \nany of the parameters to be set to different values than the default. We \nillustrate this here by coregistering with a transform type different \nfrom the default:\n\n"
      ]
    },
    {
      "cell_type": "code",
      "execution_count": null,
      "metadata": {
        "collapsed": false
      },
      "outputs": [],
      "source": [
        "coreg, fit, _, _ = mdreg.fit(\n    array, \n    fit_image=molli,\n    fit_coreg={\n        'package': 'ants',\n        'type_of_transform': 'SyNOnly',\n    },\n)"
      ]
    },
    {
      "cell_type": "markdown",
      "metadata": {},
      "source": [
        "Looking at the results, this is not a great solution for these data.\n\n"
      ]
    },
    {
      "cell_type": "code",
      "execution_count": null,
      "metadata": {
        "collapsed": false
      },
      "outputs": [],
      "source": [
        "anim = mdreg.plot.series(array, fit, coreg, vmin=0, vmax=1e4)"
      ]
    }
  ],
  "metadata": {
    "kernelspec": {
      "display_name": "Python 3",
      "language": "python",
      "name": "python3"
    },
    "language_info": {
      "codemirror_mode": {
        "name": "ipython",
        "version": 3
      },
      "file_extension": ".py",
      "mimetype": "text/x-python",
      "name": "python",
      "nbconvert_exporter": "python",
      "pygments_lexer": "ipython3",
      "version": "3.11.9"
    }
  },
  "nbformat": 4,
  "nbformat_minor": 0
}