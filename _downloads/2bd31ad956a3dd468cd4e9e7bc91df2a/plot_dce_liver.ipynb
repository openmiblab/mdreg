{
  "cells": [
    {
      "cell_type": "markdown",
      "metadata": {},
      "source": [
        "\n# 3D DCE-MRI in the liver\n\nFit a linear 2-compartment model to a 3D DCE dataset. \n\nNote: this is a large real-world dataset, and the computation may \ntake several hours. In order to test this with a smaller dataset, \nyou can use the `DCE_small` dataset.\n"
      ]
    },
    {
      "cell_type": "markdown",
      "metadata": {},
      "source": [
        "## Setup\n\n"
      ]
    },
    {
      "cell_type": "code",
      "execution_count": null,
      "metadata": {
        "collapsed": false
      },
      "outputs": [],
      "source": [
        "import os\nimport time\nimport shutil\nimport numpy as np\nimport mdreg\n\n# We use zarray data in this example\ndata = mdreg.fetch_zarr('DCE')\n\n# Variables used in this script\ntacq = data.attrs['time'] \naif = data.attrs['aif']  \nspacing = data.attrs['spacing']\nt0, t1 = 100, 150\n\n# Path for output\nresults_path = os.path.join(os.getcwd(), 'tmp')\n\n# Check the data\nanim = mdreg.plot.animation(\n    data[:, :, :, t0:t1], \n    title='DCE Data', \n    vmin=0,\n    vmax=0.9*np.max(data[...,0]),\n)"
      ]
    },
    {
      "cell_type": "markdown",
      "metadata": {},
      "source": [
        "## Perform motion correction\nWe fit the DCE data using a linearised 2-compartment model, using motion \ncorrection with default settings:\n\n"
      ]
    },
    {
      "cell_type": "code",
      "execution_count": null,
      "metadata": {
        "collapsed": false
      },
      "outputs": [],
      "source": [
        "t = time.time()\n\ncoreg, fit, transfo, pars = mdreg.fit(\n    data,\n    fit_image={\n        'func': mdreg.fit_2cm_lin,                \n        'time': tacq,                   # Acquisition times \n        'aif': aif,                     # Signal-time curve in the aorta\n        'baseline': 5,                  # Nr of precontrast samples \n    },\n    maxit=3,\n    path=results_path,\n    verbose=2,\n)\n\nprint(f\"Computation time: {round(time.time()-t)} seconds.\")"
      ]
    },
    {
      "cell_type": "markdown",
      "metadata": {},
      "source": [
        "Check the result\n\n"
      ]
    },
    {
      "cell_type": "code",
      "execution_count": null,
      "metadata": {
        "collapsed": false
      },
      "outputs": [],
      "source": [
        "anim = mdreg.plot.animation(\n    coreg[:, :, :, t0:t1],\n    title='DCE motion corrected', \n    vmin=0,\n    vmax=0.9*np.max(data[...,0]),\n)"
      ]
    },
    {
      "cell_type": "markdown",
      "metadata": {},
      "source": [
        "Cleanup disk\n\n"
      ]
    },
    {
      "cell_type": "code",
      "execution_count": null,
      "metadata": {
        "collapsed": false
      },
      "outputs": [],
      "source": [
        "shutil.rmtree(results_path)"
      ]
    }
  ],
  "metadata": {
    "kernelspec": {
      "display_name": "Python 3",
      "language": "python",
      "name": "python3"
    },
    "language_info": {
      "codemirror_mode": {
        "name": "ipython",
        "version": 3
      },
      "file_extension": ".py",
      "mimetype": "text/x-python",
      "name": "python",
      "nbconvert_exporter": "python",
      "pygments_lexer": "ipython3",
      "version": "3.11.9"
    }
  },
  "nbformat": 4,
  "nbformat_minor": 0
}