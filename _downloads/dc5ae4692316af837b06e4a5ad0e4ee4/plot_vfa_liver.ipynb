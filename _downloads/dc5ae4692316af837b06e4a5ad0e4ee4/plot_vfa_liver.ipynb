{
  "cells": [
    {
      "cell_type": "markdown",
      "metadata": {},
      "source": [
        "\n# 3D Variable Flip Angle (Linear)\n\nThis example illustrates motion correction of a 3D time series with \nvariable flip angles (VFA). The motion correction is performed with 3D \ncoregistration and using a linear signal model fit.\n"
      ]
    },
    {
      "cell_type": "markdown",
      "metadata": {},
      "source": [
        "## Setup\n\n"
      ]
    },
    {
      "cell_type": "code",
      "execution_count": null,
      "metadata": {
        "collapsed": false
      },
      "outputs": [],
      "source": [
        "import numpy as np\nimport mdreg\n\n# Example data included in mdreg\ndata = mdreg.fetch('VFA')\n\n# Variables used in this examples\narray = data['array']       # 4D signal data (x, y, z, FA)\nFA = data['FA']             # The FA values in degrees\nspacing = data['spacing']   # (x,y,z) voxel size in mm."
      ]
    },
    {
      "cell_type": "markdown",
      "metadata": {},
      "source": [
        "## Perform motion correction\nThe signal model above is included in `mdreg` as the function \n`mdreg.fit_spgr_vfa_lin`, which require the flip angle (FA) values in degrees as \ninput:\n\n"
      ]
    },
    {
      "cell_type": "code",
      "execution_count": null,
      "metadata": {
        "collapsed": false
      },
      "outputs": [],
      "source": [
        "fit_params = {\n    'func': mdreg.fit_spgr_vfa_lin,     # VFA signal model\n    'FA': FA,                           # Flip angle in degress  \n}"
      ]
    },
    {
      "cell_type": "markdown",
      "metadata": {},
      "source": [
        "For coregistration we will use elastix and a relatively coarse deformation \nfield with grid spacing 50mm. We also ask to return the deformation field \nso we can inspect it:\n\n"
      ]
    },
    {
      "cell_type": "code",
      "execution_count": null,
      "metadata": {
        "collapsed": false
      },
      "outputs": [],
      "source": [
        "coreg_params = {\n    'package': 'elastix',\n    'spacing': spacing,\n    'FinalGridSpacingInPhysicalUnits': 50.0,\n    'return_deformation': True,\n}"
      ]
    },
    {
      "cell_type": "markdown",
      "metadata": {},
      "source": [
        "We can now perform the motion correction:\n\n"
      ]
    },
    {
      "cell_type": "code",
      "execution_count": null,
      "metadata": {
        "collapsed": false
      },
      "outputs": [],
      "source": [
        "coreg, fit, transfo, pars, defo = mdreg.fit(\n    array,                          # Signal data to correct\n    fit_image = fit_params,         # Signal model\n    fit_coreg = coreg_params,       # Coregistration model\n    maxit = 2,                      # Maximum number of iteration\n    verbose = 2,\n)"
      ]
    },
    {
      "cell_type": "markdown",
      "metadata": {},
      "source": [
        "## Visualize the results\nWe visualise the original data and results of the computation using the \nbuiltin `animation` function. Since we want to call this 3 times, \nwe define the settings up front:\n\n"
      ]
    },
    {
      "cell_type": "code",
      "execution_count": null,
      "metadata": {
        "collapsed": false
      },
      "outputs": [],
      "source": [
        "plot_settings = {\n    'vmin' : 0,                         # Minimum value of the colorbar\n    'vmax' : np.percentile(array,99),   # Maximum value of the colorbar\n}"
      ]
    },
    {
      "cell_type": "markdown",
      "metadata": {},
      "source": [
        "Now we can plot the data, coregistered images and model fits separately:\n\n"
      ]
    },
    {
      "cell_type": "code",
      "execution_count": null,
      "metadata": {
        "collapsed": false
      },
      "outputs": [],
      "source": [
        "anim = mdreg.plot.animation(array, title='Original data', **plot_settings)"
      ]
    },
    {
      "cell_type": "code",
      "execution_count": null,
      "metadata": {
        "collapsed": false
      },
      "outputs": [],
      "source": [
        "anim = mdreg.plot.animation(coreg, title='Motion corrected', **plot_settings)"
      ]
    },
    {
      "cell_type": "code",
      "execution_count": null,
      "metadata": {
        "collapsed": false
      },
      "outputs": [],
      "source": [
        "anim = mdreg.plot.animation(fit, title='Model fit', **plot_settings)"
      ]
    },
    {
      "cell_type": "markdown",
      "metadata": {},
      "source": [
        "It's also instructive to show the deformation field and check whether \ndeformations are consistent with the effect of breathing motion. Since the \ndeformation field is a vector we show here its norm:\n\n"
      ]
    },
    {
      "cell_type": "code",
      "execution_count": null,
      "metadata": {
        "collapsed": false
      },
      "outputs": [],
      "source": [
        "# Get the norm of the deformation field and adjust the plot settings\ndefo = mdreg.defo_norm(defo)\nplot_settings['vmax'] = np.percentile(defo, 90)\n\n# Display the norm of the deformation field\nanim = mdreg.plot.animation(defo, title='Deformation field', **plot_settings)"
      ]
    }
  ],
  "metadata": {
    "kernelspec": {
      "display_name": "Python 3",
      "language": "python",
      "name": "python3"
    },
    "language_info": {
      "codemirror_mode": {
        "name": "ipython",
        "version": 3
      },
      "file_extension": ".py",
      "mimetype": "text/x-python",
      "name": "python",
      "nbconvert_exporter": "python",
      "pygments_lexer": "ipython3",
      "version": "3.11.9"
    }
  },
  "nbformat": 4,
  "nbformat_minor": 0
}