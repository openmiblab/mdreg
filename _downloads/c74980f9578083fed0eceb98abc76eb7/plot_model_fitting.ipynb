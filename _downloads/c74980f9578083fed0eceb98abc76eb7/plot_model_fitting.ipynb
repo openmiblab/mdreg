{
  "cells": [
    {
      "cell_type": "markdown",
      "metadata": {},
      "source": [
        "\n# Fitting models without motion correction\n\nThis example illustrates how mdreg can be used to fit models without \nmotion correction. The idea is illustrated for a 3D time series with \nvariable flip angles (VFA), and a linear signal model fit.\n"
      ]
    },
    {
      "cell_type": "markdown",
      "metadata": {},
      "source": [
        "## Setup\n\n"
      ]
    },
    {
      "cell_type": "code",
      "execution_count": null,
      "metadata": {
        "collapsed": false
      },
      "outputs": [],
      "source": [
        "import numpy as np\nimport mdreg\n\n# Example data included in mdreg\ndata = mdreg.fetch('VFA')\n\n# Variables used in this examples\narray = data['array']       # 4D signal data (x, y, z, FA)\nFA = data['FA']             # The FA values in degrees"
      ]
    },
    {
      "cell_type": "markdown",
      "metadata": {},
      "source": [
        "## Perform model fit\nThe linear VFA signal model is included in `mdreg` as the function \n`mdreg.fit_spgr_vfa_lin`, which requires the flip angle (FA) values in \ndegrees as input:\n\n"
      ]
    },
    {
      "cell_type": "code",
      "execution_count": null,
      "metadata": {
        "collapsed": false
      },
      "outputs": [],
      "source": [
        "fit, pars = mdreg.fit_spgr_vfa_lin(\n    array,                      # Signal data to fit\n    FA=FA,                      # Flip angle in degrees  \n    progress_bar=True,          # Set to True to show a progress bar\n)"
      ]
    },
    {
      "cell_type": "markdown",
      "metadata": {},
      "source": [
        "Plot the model parameters:\n\n"
      ]
    },
    {
      "cell_type": "code",
      "execution_count": null,
      "metadata": {
        "collapsed": false
      },
      "outputs": [],
      "source": [
        "S0 = pars[...,0]\nfig = mdreg.plot.par(S0, title='S0', vmin=0, vmax=5*np.amax(array))"
      ]
    },
    {
      "cell_type": "code",
      "execution_count": null,
      "metadata": {
        "collapsed": false
      },
      "outputs": [],
      "source": [
        "T1 = -1/np.log(pars[...,1])\nfig = mdreg.plot.par(T1, title='T1/TR', vmin=0, vmax=500)"
      ]
    },
    {
      "cell_type": "markdown",
      "metadata": {},
      "source": [
        "Check the model fit:\n\n"
      ]
    },
    {
      "cell_type": "code",
      "execution_count": null,
      "metadata": {
        "collapsed": false
      },
      "outputs": [],
      "source": [
        "anim = mdreg.plot.animation(\n    fit, \n    title='VFA model fit', \n    vmin=0,\n    vmax=np.percentile(array, 99),\n)"
      ]
    },
    {
      "cell_type": "markdown",
      "metadata": {},
      "source": [
        "## Pixel-by-pixel fitting\nAlternatively, the function `mdreg.fit_pixels` can be used to fit any \nsingle-pixel model directly:\n\n"
      ]
    },
    {
      "cell_type": "code",
      "execution_count": null,
      "metadata": {
        "collapsed": false
      },
      "outputs": [],
      "source": [
        "fit, pars = mdreg.fit_pixels(\n    array,\n    model=mdreg.spgr_vfa,\n    xdata=FA,\n    func_init=mdreg.spgr_vfa_init,\n    p0=[1,0.5],\n    bounds=([0,0], [np.inf,1]),\n)"
      ]
    },
    {
      "cell_type": "markdown",
      "metadata": {},
      "source": [
        "Check the model fit:\n\n"
      ]
    },
    {
      "cell_type": "code",
      "execution_count": null,
      "metadata": {
        "collapsed": false
      },
      "outputs": [],
      "source": [
        "anim = mdreg.plot.animation(\n    fit, \n    title='VFA model fit', \n    vmin=0,\n    vmax=np.percentile(array, 99),\n)"
      ]
    }
  ],
  "metadata": {
    "kernelspec": {
      "display_name": "Python 3",
      "language": "python",
      "name": "python3"
    },
    "language_info": {
      "codemirror_mode": {
        "name": "ipython",
        "version": 3
      },
      "file_extension": ".py",
      "mimetype": "text/x-python",
      "name": "python",
      "nbconvert_exporter": "python",
      "pygments_lexer": "ipython3",
      "version": "3.11.9"
    }
  },
  "nbformat": 4,
  "nbformat_minor": 0
}