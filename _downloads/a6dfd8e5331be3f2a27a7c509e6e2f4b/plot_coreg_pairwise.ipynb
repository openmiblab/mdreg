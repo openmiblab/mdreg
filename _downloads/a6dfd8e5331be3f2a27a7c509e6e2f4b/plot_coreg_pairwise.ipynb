{
  "cells": [
    {
      "cell_type": "markdown",
      "metadata": {},
      "source": [
        "\n# Pairwise coregistration API\n\n``mdreg`` includes a harmonized API for pairwise coregistration of 2D images\nor 3D volumes with three different packages: ``ants``, ``skimage`` and \n``itk-elastix``. \n\nThis examples illustrates their usage for the example of pairwise 3D \nregistration.\n"
      ]
    },
    {
      "cell_type": "markdown",
      "metadata": {},
      "source": [
        "## Setup\n\n"
      ]
    },
    {
      "cell_type": "code",
      "execution_count": null,
      "metadata": {
        "collapsed": false
      },
      "outputs": [],
      "source": [
        "import os\nimport time\nimport numpy as np\nimport mdreg"
      ]
    },
    {
      "cell_type": "markdown",
      "metadata": {},
      "source": [
        "Load test data\n\n"
      ]
    },
    {
      "cell_type": "code",
      "execution_count": null,
      "metadata": {
        "collapsed": false
      },
      "outputs": [],
      "source": [
        "data = mdreg.fetch('VFA')\n\n# Select first and last volume to coregister\nfixed = data['array'][:,:,:,0]\nmoving = data['array'][:,:,:,-1]\n\n# Relevant header data\nFA = data['FA']             # The FA values in degrees\nspacing = data['spacing']   # (x,y,z) voxel size in mm."
      ]
    },
    {
      "cell_type": "markdown",
      "metadata": {},
      "source": [
        "## Check alignment\nOn the difference image, the effect of breathing motion can be clearly seen \nas a white line at the edge of the liver:\n\n"
      ]
    },
    {
      "cell_type": "code",
      "execution_count": null,
      "metadata": {
        "collapsed": false
      },
      "outputs": [],
      "source": [
        "# Difference image\ndiff = fixed - moving\n\n# Keep the same scaling throughout this example\nv = np.percentile(diff, [1, 99])\n\n# Display difference\nfig = mdreg.plot.par(\n    diff, \n    title='Difference without coregistration', \n    vmin=v[0], \n    vmax=v[1],\n)"
      ]
    },
    {
      "cell_type": "markdown",
      "metadata": {},
      "source": [
        "## Coregister with elastix\nWe first use elastix to coregister the images:\n\n"
      ]
    },
    {
      "cell_type": "code",
      "execution_count": null,
      "metadata": {
        "collapsed": false
      },
      "outputs": [],
      "source": [
        "t = time.time()\n\ncoreg, deform = mdreg.elastix.coreg(\n    moving, \n    fixed, \n    spacing=spacing,\n    FinalGridSpacingInPhysicalUnits=50.0,\n)\n\nprint(f\"elastix computation time: {round(time.time()-t)} seconds.\")"
      ]
    },
    {
      "cell_type": "markdown",
      "metadata": {},
      "source": [
        "We used here the default b-spline registration method, but since this is \nabdominal motion we used a coarser grid spacing than the \nelastix default of 16mm (note: you can use `mdreg.elastix.defaults` to find \nout what the defaults are). Any other defaults can be overridden by \nspecifying additional keywords.\n\n"
      ]
    },
    {
      "cell_type": "markdown",
      "metadata": {},
      "source": [
        "We check the result by plotting the difference with the coregistered \n(deformed) moving image:\n\n"
      ]
    },
    {
      "cell_type": "code",
      "execution_count": null,
      "metadata": {
        "collapsed": false
      },
      "outputs": [],
      "source": [
        "fig = mdreg.plot.par(\n    fixed - coreg, \n    title='Difference with elastix coregistration', \n    vmin=v[0], \n    vmax=v[1],\n)"
      ]
    },
    {
      "cell_type": "markdown",
      "metadata": {},
      "source": [
        "The results clearly show the effect of the registration: the white line \nat the top of the liver is gone but the gallbladder is deformed in an \nunphysical way.\n\n"
      ]
    },
    {
      "cell_type": "markdown",
      "metadata": {},
      "source": [
        "Apart from the coregistered image, the function also returned the \ntransformation parameters. These can be used to deform other images in the \nsame way. As an example, we can check that transforming the moving image does \nindeed produce the coregistered image:\n\n"
      ]
    },
    {
      "cell_type": "code",
      "execution_count": null,
      "metadata": {
        "collapsed": false
      },
      "outputs": [],
      "source": [
        "# Deform the moving image\ndeformed = mdreg.elastix.transform(moving, deform, spacing)\n\n# Check the difference with the coregistered image\nerr = 100*np.linalg.norm(deformed-coreg)/np.linalg.norm(moving)\n\nprint(f\"Difference between coregistered and deformed: {err} %\")"
      ]
    },
    {
      "cell_type": "markdown",
      "metadata": {},
      "source": [
        "## Coregister with skimage\nWe could try to improve the elastix coregistration by modifying the \nparameters, but for the purpose of this tutorial we try another package \ninstead.\n\n`skimage` has an implementation of the optical flow method for registration \nwhich is wrapped by mdreg with the same API as elastix and ants. Let's \ntry it on our problem:\n\n"
      ]
    },
    {
      "cell_type": "code",
      "execution_count": null,
      "metadata": {
        "collapsed": false
      },
      "outputs": [],
      "source": [
        "t = time.time()\n\ncoreg, deform = mdreg.skimage.coreg(\n  moving, \n  fixed, \n  attachment=30.0,\n)\n\nprint(f\"skimage computation time: {round(time.time()-t)} seconds.\")"
      ]
    },
    {
      "cell_type": "markdown",
      "metadata": {},
      "source": [
        "We chose to  \nuse a coarser registration than the default by setting the attachment to a \nhigher value - 30 instead of the default 15 (note: as in elastix you can \nfind the default settings by calling `mdreg.skimage.defaults`).\n\n"
      ]
    },
    {
      "cell_type": "markdown",
      "metadata": {},
      "source": [
        "Plot the difference with the coregistered (deformed) moving image:\n\n"
      ]
    },
    {
      "cell_type": "code",
      "execution_count": null,
      "metadata": {
        "collapsed": false
      },
      "outputs": [],
      "source": [
        "fig = mdreg.plot.par(\n    fixed - coreg, \n    title='Difference with skimage coregistration', \n    vmin=v[0], \n    vmax=v[1],\n)"
      ]
    },
    {
      "cell_type": "markdown",
      "metadata": {},
      "source": [
        "This appears to have done a reasonable job at minimizing the difference \nbetween the images without creating unwanted deformations. \n\n"
      ]
    },
    {
      "cell_type": "markdown",
      "metadata": {},
      "source": [
        "In `skimage.coreg` the second return value is the deformation field. As in elastix \nwe can use it to deform other images in the same way. If we try this on the \nmoving image, we get the coregistered image again:\n\n"
      ]
    },
    {
      "cell_type": "code",
      "execution_count": null,
      "metadata": {
        "collapsed": false
      },
      "outputs": [],
      "source": [
        "deformed = mdreg.skimage.transform(moving, deform)\n\n# Check the difference with the coregistered image\nerr = 100*np.linalg.norm(deformed-coreg)/np.linalg.norm(moving)\n\nprint(f\"Difference between coregistered and deformed: {err} %\")"
      ]
    },
    {
      "cell_type": "markdown",
      "metadata": {},
      "source": [
        "## Coregister with ants\nLet's run this a final time with the third package wrapped in mdreg -\n``ants``:\n\n"
      ]
    },
    {
      "cell_type": "code",
      "execution_count": null,
      "metadata": {
        "collapsed": false
      },
      "outputs": [],
      "source": [
        "t = time.time()\n\ncoreg, deform = mdreg.ants.coreg(\n    moving, \n    fixed,\n    type_of_transform='SyNOnly',\n)\n\nprint(f\"ANTs computation time: {round(time.time()-t)} seconds.\")\n\n## %%\n# We have used default settings for all parameters except the type \n# of transform. By default the transform is a two-stage process with affine \n# pre-alignment followed by deformable registration. Here we tried deformable \n# registration alone, which is more similar to what we have done with elastix."
      ]
    },
    {
      "cell_type": "markdown",
      "metadata": {},
      "source": [
        "Plot the difference with the coregistered (deformed) moving image:\n\n"
      ]
    },
    {
      "cell_type": "code",
      "execution_count": null,
      "metadata": {
        "collapsed": false
      },
      "outputs": [],
      "source": [
        "fig = mdreg.plot.par(\n    fixed - coreg, \n    title='Difference with ANTs coregistration', \n    vmin=v[0], \n    vmax=v[1],\n)"
      ]
    },
    {
      "cell_type": "markdown",
      "metadata": {},
      "source": [
        "This also appears to have achieved the goal of reducing the main differences \nwithout creating unwanted deformations.\n\n"
      ]
    },
    {
      "cell_type": "markdown",
      "metadata": {},
      "source": [
        "The second return value is a path or list of paths to files \nthat hold the parameter values. These can be used to deform other images \nin the same way. If we deform the moving image, we get the coregistered \nimage again:\n\n"
      ]
    },
    {
      "cell_type": "code",
      "execution_count": null,
      "metadata": {
        "collapsed": false
      },
      "outputs": [],
      "source": [
        "deformed = mdreg.ants.transform(moving, deform)\n\n# Check the difference with the coregistered image\nerr = 100*np.linalg.norm(deformed-coreg)/np.linalg.norm(moving)\n\nprint(f\"Difference between coregistered and deformed: {err} %\")"
      ]
    },
    {
      "cell_type": "markdown",
      "metadata": {},
      "source": [
        "Note since ants writes deformation parameters to files, this will leave \ntraces on disk unless you remove these explicitly:\n\n"
      ]
    },
    {
      "cell_type": "code",
      "execution_count": null,
      "metadata": {
        "collapsed": false
      },
      "outputs": [],
      "source": [
        "[os.remove(d) for d in deform]"
      ]
    },
    {
      "cell_type": "markdown",
      "metadata": {},
      "source": [
        "Alternatively, if the transformation is not needed the coreg function can be \ncalled with return_transfo=False:\n\n"
      ]
    },
    {
      "cell_type": "code",
      "execution_count": null,
      "metadata": {
        "collapsed": false
      },
      "outputs": [],
      "source": [
        "coreg = mdreg.ants.coreg(\n    moving, \n    fixed,\n    type_of_transform='SyNOnly',\n    return_transfo=False,\n)"
      ]
    }
  ],
  "metadata": {
    "kernelspec": {
      "display_name": "Python 3",
      "language": "python",
      "name": "python3"
    },
    "language_info": {
      "codemirror_mode": {
        "name": "ipython",
        "version": 3
      },
      "file_extension": ".py",
      "mimetype": "text/x-python",
      "name": "python",
      "nbconvert_exporter": "python",
      "pygments_lexer": "ipython3",
      "version": "3.11.9"
    }
  },
  "nbformat": 4,
  "nbformat_minor": 0
}